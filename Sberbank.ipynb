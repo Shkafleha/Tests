{
  "nbformat": 4,
  "nbformat_minor": 0,
  "metadata": {
    "colab": {
      "name": "Sberbank.ipynb",
      "provenance": [],
      "collapsed_sections": []
    },
    "kernelspec": {
      "name": "python3",
      "display_name": "Python 3"
    }
  },
  "cells": [
    {
      "cell_type": "markdown",
      "metadata": {
        "id": "LuJ58ALYE9hv"
      },
      "source": [
        "1. Вернуть первый элемент, третий элемент, второй с конца элемент входного массива."
      ]
    },
    {
      "cell_type": "code",
      "metadata": {
        "colab": {
          "base_uri": "https://localhost:8080/"
        },
        "id": "huciCwuQFgFs",
        "outputId": "ea7fb10b-210f-47eb-fcb8-f80098f5cfbd"
      },
      "source": [
        "def get_element(args):\n",
        "  return args[0], args[2], args[-2]\n",
        "\n",
        "print(get_element([1,2,3,4,5]))"
      ],
      "execution_count": 91,
      "outputs": [
        {
          "output_type": "stream",
          "text": [
            "(1, 3, 4)\n"
          ],
          "name": "stdout"
        }
      ]
    },
    {
      "cell_type": "markdown",
      "metadata": {
        "id": "05djLmBLE9qp"
      },
      "source": [
        "2. Дан массив чисел и число N. Возвести число в позиции N в степень N. Если это невозможно,\n",
        "то вернуть -1."
      ]
    },
    {
      "cell_type": "code",
      "metadata": {
        "colab": {
          "base_uri": "https://localhost:8080/"
        },
        "id": "UlSP9NsCFg9r",
        "outputId": "4e32c5e4-5950-4e83-dcaa-af32ea6117a7"
      },
      "source": [
        "def elevate(args, N):\n",
        "  try:\n",
        "    return args[N-1]**N\n",
        "  except:\n",
        "    return -1\n",
        "\n",
        "print(elevate([1,2,3,4,5], 4))"
      ],
      "execution_count": 92,
      "outputs": [
        {
          "output_type": "stream",
          "text": [
            "256\n"
          ],
          "name": "stdout"
        }
      ]
    },
    {
      "cell_type": "markdown",
      "metadata": {
        "id": "9KKwq_hVE9xL"
      },
      "source": [
        "3. Найти второй индекс входного символа во входной строке.\n",
        "Пример: f(«сбербанк», «б») == 4"
      ]
    },
    {
      "cell_type": "code",
      "metadata": {
        "colab": {
          "base_uri": "https://localhost:8080/"
        },
        "id": "_U17-LXfKctb",
        "outputId": "c7f1d6f7-6bfd-48dd-fc8f-6d5e3f0e7a8f"
      },
      "source": [
        "import re\n",
        "def func(args, char):\n",
        "\n",
        "  inilist = [m.start() for m in re.finditer(char, args)] \n",
        "  if len(inilist)>= 2: \n",
        "    print (\"Второй индекс\", inilist[1]+1) \n",
        "  else: \n",
        "    print (f\"Второй {char} не найден\") \n",
        "  return re.finditer(char, args)\n",
        "  \n",
        "\n",
        "print(func('сбербанкб', 'б'))"
      ],
      "execution_count": 93,
      "outputs": [
        {
          "output_type": "stream",
          "text": [
            "Второй индекс 5\n",
            "<callable_iterator object at 0x7f550212e6a0>\n"
          ],
          "name": "stdout"
        }
      ]
    },
    {
      "cell_type": "markdown",
      "metadata": {
        "id": "VXcrVv0NE90g"
      },
      "source": [
        "4. Найти количество нулей в конце входного числа.\n",
        "Пример: f(101100110100) == 2"
      ]
    },
    {
      "cell_type": "code",
      "metadata": {
        "colab": {
          "base_uri": "https://localhost:8080/"
        },
        "id": "RKg384lDROv2",
        "outputId": "3ba169c4-e959-4862-f981-6da8a466d804"
      },
      "source": [
        "len(str(1110010100).split('1')[-1])"
      ],
      "execution_count": 94,
      "outputs": [
        {
          "output_type": "execute_result",
          "data": {
            "text/plain": [
              "2"
            ]
          },
          "metadata": {
            "tags": []
          },
          "execution_count": 94
        }
      ]
    },
    {
      "cell_type": "markdown",
      "metadata": {
        "id": "gdbKZ0mbE93x"
      },
      "source": [
        "5. Представить входную строку в обратном порядке."
      ]
    },
    {
      "cell_type": "code",
      "metadata": {
        "colab": {
          "base_uri": "https://localhost:8080/"
        },
        "id": "ioOWv08hXY0Y",
        "outputId": "8489edb5-96be-4fe6-be40-a58bf55943eb"
      },
      "source": [
        "txt = \"Hello World\"[::-1]\n",
        "print(txt)\n"
      ],
      "execution_count": 95,
      "outputs": [
        {
          "output_type": "stream",
          "text": [
            "dlroW olleH\n"
          ],
          "name": "stdout"
        }
      ]
    },
    {
      "cell_type": "markdown",
      "metadata": {
        "id": "UM0OK2l1E9-p"
      },
      "source": [
        "6. Проверить состоит ли входной массив исключительного из одного и того же значения."
      ]
    },
    {
      "cell_type": "code",
      "metadata": {
        "colab": {
          "base_uri": "https://localhost:8080/"
        },
        "id": "2vTQpD2IYIEJ",
        "outputId": "ef901ab3-906a-4fdf-ee73-e75c24806f92"
      },
      "source": [
        "s = '11011'\n",
        "s == len(s) * s[0]\n"
      ],
      "execution_count": 96,
      "outputs": [
        {
          "output_type": "execute_result",
          "data": {
            "text/plain": [
              "False"
            ]
          },
          "metadata": {
            "tags": []
          },
          "execution_count": 96
        }
      ]
    },
    {
      "cell_type": "markdown",
      "metadata": {
        "id": "_HVkugkuE-Bt"
      },
      "source": [
        "7. Проверить сложность пароля во входной строке. Пароль должен содержать, как минимум,\n",
        "одну букву в нижнем регистре, одну букву в верхнем регистре, одну цифру и не содержит\n",
        "никаких других символов. Минимальная длина пароля 16 символов.\n"
      ]
    },
    {
      "cell_type": "code",
      "metadata": {
        "colab": {
          "base_uri": "https://localhost:8080/"
        },
        "id": "JDcDBNTgav2l",
        "outputId": "84938a78-a7ec-448f-b8ea-d8315cb0936e"
      },
      "source": [
        "def password_check(password):\n",
        "\n",
        "    # проверка длинны\n",
        "    length_error = len(password) < 16\n",
        "\n",
        "    # поиск цифр\n",
        "    digit_error = re.search(r\"\\d\", password) is None\n",
        "\n",
        "    # поиск большой буквы\n",
        "    uppercase_error = re.search(r\"[A-Z]\", password) is None\n",
        "\n",
        "    # поиск мелких букв\n",
        "    lowercase_error = re.search(r\"[a-z]\", password) is None\n",
        "\n",
        "    # поиск символа\n",
        "    symbol_error = re.search(r\"[ !#$%&'()*+,-./[\\\\\\]^_`{|}~\"+r'\"]', password) is None\n",
        "\n",
        "    # общий результат\n",
        "    password_ok = not ( length_error or digit_error or uppercase_error or lowercase_error or symbol_error )\n",
        "\n",
        "    return {\n",
        "        'password_ok' : password_ok,\n",
        "        'length_error' : length_error,\n",
        "        'digit_error' : digit_error,\n",
        "        'uppercase_error' : uppercase_error,\n",
        "        'lowercase_error' : lowercase_error,\n",
        "        'symbol_error' : symbol_error,\n",
        "    }\n",
        "\n",
        "print(password_check('2S$'))"
      ],
      "execution_count": 97,
      "outputs": [
        {
          "output_type": "stream",
          "text": [
            "{'password_ok': False, 'length_error': True, 'digit_error': False, 'uppercase_error': False, 'lowercase_error': True, 'symbol_error': False}\n"
          ],
          "name": "stdout"
        }
      ]
    },
    {
      "cell_type": "markdown",
      "metadata": {
        "id": "o3XPdlmCE-EG"
      },
      "source": [
        "8. Во входном списке имеются вложенные списки, которые также могут иметь вложенные\n",
        "списки. Необходимо вытянуть список в одномерный массив (flatten)."
      ]
    },
    {
      "cell_type": "code",
      "metadata": {
        "colab": {
          "base_uri": "https://localhost:8080/"
        },
        "id": "2FvOIql4cA-I",
        "outputId": "bfb5ddec-e2d7-4e42-eeca-bd1e918d139a"
      },
      "source": [
        "import numpy as np\n",
        "\n",
        "def traverse(o, tree_types=(list)):\n",
        "    if isinstance(o, tree_types):\n",
        "        for value in o:\n",
        "            for subvalue in traverse(value, tree_types):\n",
        "                yield subvalue\n",
        "    else:\n",
        "        yield o\n",
        "\n",
        "data = [[1,1,[1,1,[1,[1,11111,1111], \"1\"]]],[1,1,1],[1,],1,[1,[1,[\"1\",]]]]\n",
        "\n",
        "print(list(traverse(data)))"
      ],
      "execution_count": 98,
      "outputs": [
        {
          "output_type": "stream",
          "text": [
            "[1, 1, 1, 1, 1, 1, 11111, 1111, '1', 1, 1, 1, 1, 1, 1, 1, '1']\n"
          ],
          "name": "stdout"
        }
      ]
    },
    {
      "cell_type": "code",
      "metadata": {
        "colab": {
          "base_uri": "https://localhost:8080/"
        },
        "id": "FdzYFawjUPKf",
        "outputId": "32b80ea1-5248-459a-f580-71fd5460336b"
      },
      "source": [
        "import numpy as np\n",
        "\n",
        "def traverse(o):\n",
        "    if isinstance(o, list):\n",
        "        for value in o:\n",
        "            for subvalue in traverse(value):\n",
        "                yield subvalue\n",
        "    else:\n",
        "        yield o\n",
        "\n",
        "data = [[1,1,[1,1,[1,[1,11111,1111], \"1\"]]],[1,1,1],[1,],1,[1,[1,[\"1\",]]]]\n",
        "\n",
        "print(list(traverse(data)))"
      ],
      "execution_count": 99,
      "outputs": [
        {
          "output_type": "stream",
          "text": [
            "[1, 1, 1, 1, 1, 1, 11111, 1111, '1', 1, 1, 1, 1, 1, 1, 1, '1']\n"
          ],
          "name": "stdout"
        }
      ]
    },
    {
      "cell_type": "markdown",
      "metadata": {
        "id": "6lrQuUpZE-G5"
      },
      "source": [
        "9. На вход принимается словарь(dict), в котором ключами являются строки (str), а значениями\n",
        "числа (float). Необходимо вернуть ключ максимального значения."
      ]
    },
    {
      "cell_type": "code",
      "metadata": {
        "colab": {
          "base_uri": "https://localhost:8080/",
          "height": 35
        },
        "id": "uoaid-uAcHw5",
        "outputId": "f0d7ddde-bb3e-43fd-9c6a-53374fd22f3d"
      },
      "source": [
        "stats = {'a':1000, 'b':1000, 'c': 100, 'd':3000}\n",
        "max(stats, key=stats.get)"
      ],
      "execution_count": 100,
      "outputs": [
        {
          "output_type": "execute_result",
          "data": {
            "application/vnd.google.colaboratory.intrinsic+json": {
              "type": "string"
            },
            "text/plain": [
              "'d'"
            ]
          },
          "metadata": {
            "tags": []
          },
          "execution_count": 100
        }
      ]
    },
    {
      "cell_type": "markdown",
      "metadata": {
        "id": "LmVM7AWqE-JH"
      },
      "source": [
        "10. Дан непустой список целых чисел (X). Необходимо вернуть список, содержащий только\n",
        "неуникальные значения из входного списка. Порядок чисел не должен меняться.\n",
        "Пример: [1,2,3,1,3] => [1,3,1,3]\n"
      ]
    },
    {
      "cell_type": "code",
      "metadata": {
        "colab": {
          "base_uri": "https://localhost:8080/"
        },
        "id": "c84DcxcxcKPz",
        "outputId": "dc990906-88d4-49b0-c47d-6535ec28a2a5"
      },
      "source": [
        "ids = [1,2,3,1,3]\n",
        "from collections import Counter\n",
        "counts = Counter(ids)\n",
        "dupids = [id for id in ids if counts[id] > 1]\n",
        "print(dupids)"
      ],
      "execution_count": 101,
      "outputs": [
        {
          "output_type": "stream",
          "text": [
            "[1, 3, 1, 3]\n"
          ],
          "name": "stdout"
        }
      ]
    },
    {
      "cell_type": "markdown",
      "metadata": {
        "id": "L5OzJXSqE5T6"
      },
      "source": [
        "11. На вход подается текст, содержащий разные буквы латинского алфавита и символы\n",
        "пунктуации. Нужно найти букву, которая встречается чаще всего. Если таких букв больше\n",
        "одной, то нужно вернуть ту, что стоит выше в алфавите. Регистр букв не учитывается, то есть\n",
        "«А» == «а»."
      ]
    },
    {
      "cell_type": "code",
      "metadata": {
        "colab": {
          "base_uri": "https://localhost:8080/"
        },
        "id": "QAGY8AZ0ezuO",
        "outputId": "4633422d-a507-41a9-d6ee-06b7e665135c"
      },
      "source": [
        "import collections\n",
        "s = \"hellowor...lddd\"\n",
        "s = filter(str.isalpha, s)\n",
        "print((s))\n",
        "Counter('abracadabra').most_common(3)\n",
        "###############"
      ],
      "execution_count": 102,
      "outputs": [
        {
          "output_type": "stream",
          "text": [
            "<filter object at 0x7f5502130ef0>\n"
          ],
          "name": "stdout"
        },
        {
          "output_type": "execute_result",
          "data": {
            "text/plain": [
              "[('a', 5), ('b', 2), ('r', 2)]"
            ]
          },
          "metadata": {
            "tags": []
          },
          "execution_count": 102
        }
      ]
    },
    {
      "cell_type": "code",
      "metadata": {
        "colab": {
          "base_uri": "https://localhost:8080/"
        },
        "id": "oLfKvnvBXvZv",
        "outputId": "f88963b4-4bf9-479a-ef5c-a0db4cca96fa"
      },
      "source": [
        "from collections import Counter\n",
        "def perseus_sort(l):\n",
        "    counter = Counter(l)\n",
        "    return sorted(l, key=lambda x: (counter[x], x))\n",
        "\n",
        "print(perseus_sort(\"hellowor...lddd\"))"
      ],
      "execution_count": 103,
      "outputs": [
        {
          "output_type": "stream",
          "text": [
            "['e', 'h', 'r', 'w', 'o', 'o', '.', '.', '.', 'd', 'd', 'd', 'l', 'l', 'l']\n"
          ],
          "name": "stdout"
        }
      ]
    },
    {
      "cell_type": "markdown",
      "metadata": {
        "id": "451UMI0ocUDO"
      },
      "source": [
        "12. На вход подается строка, состоящая из слов и чисел, разделенных одним пробелом. Слова\n",
        "состоят только из букв. Определить, имеется ли в передаваемой строке непрерывная\n",
        "последовательность из трех слов."
      ]
    },
    {
      "cell_type": "code",
      "metadata": {
        "colab": {
          "base_uri": "https://localhost:8080/"
        },
        "id": "6VGbxzYnGbh8",
        "outputId": "d47bc2ff-1b31-4e17-f1b9-602c8e17a2a4"
      },
      "source": [
        "import re\n",
        "\n",
        "string = 'Hello  world 2020 world world '\n",
        "\n",
        "def three_chars(string):\n",
        "  result = re.findall(r'[A-Z,a-z]\\w+', string)\n",
        "  for number in range(len(result)-2):\n",
        "    if result[number]==result[number+1]==result[number+2]:\n",
        "      return True\n",
        "  return False\n",
        "  \n",
        "print(three_chars(string))"
      ],
      "execution_count": 104,
      "outputs": [
        {
          "output_type": "stream",
          "text": [
            "True\n"
          ],
          "name": "stdout"
        }
      ]
    },
    {
      "cell_type": "markdown",
      "metadata": {
        "id": "2Ayod_6ncZ5a"
      },
      "source": [
        "13. Найти максимальную длину непрерывной последовательности одинаковых букв во входной\n",
        "строке.\n",
        "Пример: «аааабббв» == 4\n",
        "\n",
        "\n",
        "\n"
      ]
    },
    {
      "cell_type": "code",
      "metadata": {
        "colab": {
          "base_uri": "https://localhost:8080/"
        },
        "id": "Bo6o5WaXcjIA",
        "outputId": "095dc4e0-4bc4-441c-88c3-b78730753127"
      },
      "source": [
        "from itertools import groupby\n",
        "\n",
        "def find_max_len(string):\n",
        "  return  max([len(list(group)) for label, group in groupby(string)])\n",
        "\n",
        "max_len = find_max_len(\"1110002223344fffffffff5555111\")\n",
        "print(f'Максимальная длинна последовательности символов {max_len}')\n"
      ],
      "execution_count": 105,
      "outputs": [
        {
          "output_type": "stream",
          "text": [
            "Максимальная длинна последовательности символов 9\n"
          ],
          "name": "stdout"
        }
      ]
    },
    {
      "cell_type": "markdown",
      "metadata": {
        "id": "zGJxNlDccaBb"
      },
      "source": [
        "14. На вход подается строка, содержащая латинские буквы, знаки пунктуации и пробелы.\n",
        "Необходимо вернуть строку собранную из букв в верхнем регистре соединенных без пробелов\n",
        "в порядке появления.\n",
        "Пример: f(‘HELL nO’) == ‘HELLO"
      ]
    },
    {
      "cell_type": "code",
      "metadata": {
        "colab": {
          "base_uri": "https://localhost:8080/"
        },
        "id": "XMHoDJhUpxY7",
        "outputId": "39710b91-f4e0-4ff8-e824-43673b1e0ba6"
      },
      "source": [
        "import re\n",
        "s = 'HELL nO'\n",
        "print(re.sub('[^A-Z]+', '', s))"
      ],
      "execution_count": 106,
      "outputs": [
        {
          "output_type": "stream",
          "text": [
            "HELLO\n"
          ],
          "name": "stdout"
        }
      ]
    },
    {
      "cell_type": "markdown",
      "metadata": {
        "id": "RykDLEmBcaJi"
      },
      "source": [
        "15. На вход подается массив чисел. Необходимо отсортировать массив по частоте элементов.\n",
        "Если два элемента имеют одинаковую частоту, то нужно отсортировать по порядку появления\n",
        "в массиве.\n",
        "Пример: [4,4,6,4,2,2,4,6] => [4,4,4,4,6,6,2,2]"
      ]
    },
    {
      "cell_type": "code",
      "metadata": {
        "colab": {
          "base_uri": "https://localhost:8080/"
        },
        "id": "FWw-Bq3YcW8h",
        "outputId": "cd330017-df39-4648-fa0b-b53592826af5"
      },
      "source": [
        "from collections import Counter\n",
        "\n",
        "lst = [4,4,6,4,2,2,4,6] \n",
        "\n",
        "def perseus_sort(l):\n",
        "    counter = Counter(l)\n",
        "    return sorted(l, key=lambda x: (counter[x], x), reverse=True)\n",
        "print(perseus_sort(lst))"
      ],
      "execution_count": 107,
      "outputs": [
        {
          "output_type": "stream",
          "text": [
            "[4, 4, 4, 4, 6, 6, 2, 2]\n"
          ],
          "name": "stdout"
        }
      ]
    },
    {
      "cell_type": "markdown",
      "metadata": {
        "id": "3KNZp6O6csbC"
      },
      "source": [
        "16. На вход подается список уникальных значений (set) и одно число. Необходимо вернуть\n",
        "ближайшее ко входному значение из списка. Если значений два, то нужно вернуть\n",
        "наименьшее. В задаче участвуют только целые числа.\n",
        "Пример: f({1, 2, 4, 5}, 3) == 2"
      ]
    },
    {
      "cell_type": "code",
      "metadata": {
        "colab": {
          "base_uri": "https://localhost:8080/"
        },
        "id": "CQedq7gahrxf",
        "outputId": "8e5bf672-4e43-46f9-b865-e7435047ece4"
      },
      "source": [
        "def nearest_value(in_set,find):\n",
        "  dict_x = {}\n",
        "  for i in reversed(list(in_set)):\n",
        "    dict_x.setdefault(abs(find-i),[]).append(i) \n",
        "  return min(dict_x[min(dict_x)])\n",
        "\n",
        "nearest_value({1, 2, 4, 5}, 3)"
      ],
      "execution_count": 108,
      "outputs": [
        {
          "output_type": "execute_result",
          "data": {
            "text/plain": [
              "2"
            ]
          },
          "metadata": {
            "tags": []
          },
          "execution_count": 108
        }
      ]
    },
    {
      "cell_type": "markdown",
      "metadata": {
        "id": "wgUAn-FYcx2_"
      },
      "source": [
        "17. Необходимо найти количество путей, которыми шашка может пройти в дамки по шахматной\n",
        "доске 8x8, при условии, что двигаться можно только по диагонали вверх. На вход подается\n",
        "две координаты стартовой позиции\n",
        "\n"
      ]
    },
    {
      "cell_type": "code",
      "metadata": {
        "colab": {
          "base_uri": "https://localhost:8080/"
        },
        "id": "M-rxkdRlcyNN",
        "outputId": "02363c17-4af3-4133-e8c7-e4edf250fd6d"
      },
      "source": [
        "def get_variation(x, y):\n",
        "\n",
        "  '''Возвращает количество ходов шашки\n",
        "  x -- координата по горизонтали [0:7]\n",
        "  y -- координата по вертикали [0:7]\n",
        "  '''\n",
        "\n",
        "  turns_counted = 0\n",
        "\n",
        "  # Проверяем верность входных координат \n",
        "  if x not in range(0,7) or y not in range(0,7):\n",
        "    return 'Координата введена не верно'\n",
        "\n",
        "  # Возвращает пару координат X для полученной координаты  \n",
        "  def new_list(x_current):\n",
        "    return [x_current - 1, x_current + 1]\n",
        "\n",
        "  xy = {}\n",
        "  # Перебираем все координаты y\n",
        "  for y_current in range(y+1,8):\n",
        "    xy[y] = [x]\n",
        "    xy[y_current] = []\n",
        "    # Бежим по листу X от предыдущей строки Y\n",
        "    for x_current in xy[y_current-1]:\n",
        "      # Проверяем чтоб полученные координаты от функции попали в допустимый интервал\n",
        "      two_new_points = filter(lambda x: x >= 0 and x<=7, new_list(x_current))\n",
        "      xy[y_current].extend(two_new_points)\n",
        "      \n",
        "    turns_counted += len(xy[y_current])\n",
        "\n",
        "  return turns_counted\n",
        "\n",
        "print(get_variation(1,0)) "
      ],
      "execution_count": 109,
      "outputs": [
        {
          "output_type": "stream",
          "text": [
            "145\n"
          ],
          "name": "stdout"
        }
      ]
    }
  ]
}